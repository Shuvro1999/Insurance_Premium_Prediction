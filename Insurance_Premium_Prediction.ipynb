{
  "nbformat": 4,
  "nbformat_minor": 0,
  "metadata": {
    "colab": {
      "provenance": [],
      "mount_file_id": "1d7YGHRck6kODx6am95SEGhl0otGmm7nA",
      "authorship_tag": "ABX9TyPkXCdi0Q5fxW/4llHUXIy+",
      "include_colab_link": true
    },
    "kernelspec": {
      "name": "python3",
      "display_name": "Python 3"
    },
    "language_info": {
      "name": "python"
    }
  },
  "cells": [
    {
      "cell_type": "markdown",
      "metadata": {
        "id": "view-in-github",
        "colab_type": "text"
      },
      "source": [
        "<a href=\"https://colab.research.google.com/github/Shuvro1999/Insurance_Premium_Prediction/blob/main/Insurance_Premium_Prediction.ipynb\" target=\"_parent\"><img src=\"https://colab.research.google.com/assets/colab-badge.svg\" alt=\"Open In Colab\"/></a>"
      ]
    },
    {
      "cell_type": "markdown",
      "source": [
        "Insurance Premium Prediction Data_set"
      ],
      "metadata": {
        "id": "83Dry5nz8RqU"
      }
    },
    {
      "cell_type": "code",
      "source": [
        "import pandas as pd\n",
        "\n",
        "df = pd.read_csv(\"/content/drive/MyDrive/insurance data_set/insurance.csv\")\n",
        "print(df.head())"
      ],
      "metadata": {
        "colab": {
          "base_uri": "https://localhost:8080/"
        },
        "id": "yPACPoEP8lXa",
        "outputId": "8c1ca1c5-cdbb-4082-cd5e-f757e9a819ba"
      },
      "execution_count": 2,
      "outputs": [
        {
          "output_type": "stream",
          "name": "stdout",
          "text": [
            "   age     sex   bmi  children smoker     region  expenses\n",
            "0   19  female  27.9         0    yes  southwest  16884.92\n",
            "1   18    male  33.8         1     no  southeast   1725.55\n",
            "2   28    male  33.0         3     no  southeast   4449.46\n",
            "3   33    male  22.7         0     no  northwest  21984.47\n",
            "4   32    male  28.9         0     no  northwest   3866.86\n"
          ]
        }
      ]
    },
    {
      "cell_type": "markdown",
      "source": [
        "Data Type"
      ],
      "metadata": {
        "id": "m2Mj0cj99C-a"
      }
    },
    {
      "cell_type": "code",
      "source": [
        "df.dtypes"
      ],
      "metadata": {
        "colab": {
          "base_uri": "https://localhost:8080/",
          "height": 304
        },
        "id": "dB6OfmWT9KAy",
        "outputId": "cc3d7d28-9a5f-4e58-c309-964e34eab0a5"
      },
      "execution_count": 3,
      "outputs": [
        {
          "output_type": "execute_result",
          "data": {
            "text/plain": [
              "age           int64\n",
              "sex          object\n",
              "bmi         float64\n",
              "children      int64\n",
              "smoker       object\n",
              "region       object\n",
              "expenses    float64\n",
              "dtype: object"
            ],
            "text/html": [
              "<div>\n",
              "<style scoped>\n",
              "    .dataframe tbody tr th:only-of-type {\n",
              "        vertical-align: middle;\n",
              "    }\n",
              "\n",
              "    .dataframe tbody tr th {\n",
              "        vertical-align: top;\n",
              "    }\n",
              "\n",
              "    .dataframe thead th {\n",
              "        text-align: right;\n",
              "    }\n",
              "</style>\n",
              "<table border=\"1\" class=\"dataframe\">\n",
              "  <thead>\n",
              "    <tr style=\"text-align: right;\">\n",
              "      <th></th>\n",
              "      <th>0</th>\n",
              "    </tr>\n",
              "  </thead>\n",
              "  <tbody>\n",
              "    <tr>\n",
              "      <th>age</th>\n",
              "      <td>int64</td>\n",
              "    </tr>\n",
              "    <tr>\n",
              "      <th>sex</th>\n",
              "      <td>object</td>\n",
              "    </tr>\n",
              "    <tr>\n",
              "      <th>bmi</th>\n",
              "      <td>float64</td>\n",
              "    </tr>\n",
              "    <tr>\n",
              "      <th>children</th>\n",
              "      <td>int64</td>\n",
              "    </tr>\n",
              "    <tr>\n",
              "      <th>smoker</th>\n",
              "      <td>object</td>\n",
              "    </tr>\n",
              "    <tr>\n",
              "      <th>region</th>\n",
              "      <td>object</td>\n",
              "    </tr>\n",
              "    <tr>\n",
              "      <th>expenses</th>\n",
              "      <td>float64</td>\n",
              "    </tr>\n",
              "  </tbody>\n",
              "</table>\n",
              "</div><br><label><b>dtype:</b> object</label>"
            ]
          },
          "metadata": {},
          "execution_count": 3
        }
      ]
    },
    {
      "cell_type": "markdown",
      "source": [
        " balanced or imbalanced dataset"
      ],
      "metadata": {
        "id": "m_jGT3mt9hzC"
      }
    },
    {
      "cell_type": "code",
      "source": [
        "target_column = 'smoker'\n",
        "\n",
        "class_counts = df[target_column].value_counts()\n",
        "class_percent = df[target_column].value_counts(normalize=True) * 100\n",
        "balance_check = pd.DataFrame({\n",
        "    'Count': class_counts,\n",
        "    'Percentage': class_percent.round(2)\n",
        "})\n",
        "\n",
        "print(f\"\\nClass distribution for '{target_column}':\\n\")\n",
        "print(balance_check)"
      ],
      "metadata": {
        "colab": {
          "base_uri": "https://localhost:8080/"
        },
        "id": "a0YwRiT99jmi",
        "outputId": "c5cfcc88-ccaf-4003-bd10-9145369725a0"
      },
      "execution_count": 4,
      "outputs": [
        {
          "output_type": "stream",
          "name": "stdout",
          "text": [
            "\n",
            "Class distribution for 'smoker':\n",
            "\n",
            "        Count  Percentage\n",
            "smoker                   \n",
            "no       1064       79.52\n",
            "yes       274       20.48\n"
          ]
        }
      ]
    }
  ]
}