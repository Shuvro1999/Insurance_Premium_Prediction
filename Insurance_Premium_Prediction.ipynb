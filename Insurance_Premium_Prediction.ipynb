{
  "nbformat": 4,
  "nbformat_minor": 0,
  "metadata": {
    "colab": {
      "provenance": [],
      "mount_file_id": "1d7YGHRck6kODx6am95SEGhl0otGmm7nA",
      "authorship_tag": "ABX9TyOBOaVUBFjVPDajbb4dDOil",
      "include_colab_link": true
    },
    "kernelspec": {
      "name": "python3",
      "display_name": "Python 3"
    },
    "language_info": {
      "name": "python"
    }
  },
  "cells": [
    {
      "cell_type": "markdown",
      "metadata": {
        "id": "view-in-github",
        "colab_type": "text"
      },
      "source": [
        "<a href=\"https://colab.research.google.com/github/Shuvro1999/Insurance_Premium_Prediction/blob/main/Insurance_Premium_Prediction.ipynb\" target=\"_parent\"><img src=\"https://colab.research.google.com/assets/colab-badge.svg\" alt=\"Open In Colab\"/></a>"
      ]
    },
    {
      "cell_type": "markdown",
      "source": [
        "Insurance Premium Prediction Data_set"
      ],
      "metadata": {
        "id": "83Dry5nz8RqU"
      }
    },
    {
      "cell_type": "code",
      "source": [
        "import pandas as pd\n",
        "\n",
        "df = pd.read_csv(\"/content/drive/MyDrive/insurance data_set/insurance.csv\")\n",
        "print(df.head())"
      ],
      "metadata": {
        "colab": {
          "base_uri": "https://localhost:8080/"
        },
        "id": "yPACPoEP8lXa",
        "outputId": "8c1ca1c5-cdbb-4082-cd5e-f757e9a819ba"
      },
      "execution_count": 2,
      "outputs": [
        {
          "output_type": "stream",
          "name": "stdout",
          "text": [
            "   age     sex   bmi  children smoker     region  expenses\n",
            "0   19  female  27.9         0    yes  southwest  16884.92\n",
            "1   18    male  33.8         1     no  southeast   1725.55\n",
            "2   28    male  33.0         3     no  southeast   4449.46\n",
            "3   33    male  22.7         0     no  northwest  21984.47\n",
            "4   32    male  28.9         0     no  northwest   3866.86\n"
          ]
        }
      ]
    }
  ]
}