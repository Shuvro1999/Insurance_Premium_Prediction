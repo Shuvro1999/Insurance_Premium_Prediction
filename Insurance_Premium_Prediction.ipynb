{
  "nbformat": 4,
  "nbformat_minor": 0,
  "metadata": {
    "colab": {
      "provenance": [],
      "mount_file_id": "1d7YGHRck6kODx6am95SEGhl0otGmm7nA",
      "authorship_tag": "ABX9TyNsU0+1qAisdMbXTxJZcNrk",
      "include_colab_link": true
    },
    "kernelspec": {
      "name": "python3",
      "display_name": "Python 3"
    },
    "language_info": {
      "name": "python"
    }
  },
  "cells": [
    {
      "cell_type": "markdown",
      "metadata": {
        "id": "view-in-github",
        "colab_type": "text"
      },
      "source": [
        "<a href=\"https://colab.research.google.com/github/Shuvro1999/Insurance_Premium_Prediction/blob/main/Insurance_Premium_Prediction.ipynb\" target=\"_parent\"><img src=\"https://colab.research.google.com/assets/colab-badge.svg\" alt=\"Open In Colab\"/></a>"
      ]
    },
    {
      "cell_type": "markdown",
      "source": [
        "Insurance Premium Prediction Data_set"
      ],
      "metadata": {
        "id": "83Dry5nz8RqU"
      }
    },
    {
      "cell_type": "code",
      "source": [
        "import pandas as pd\n",
        "\n",
        "df = pd.read_csv(\"/content/drive/MyDrive/insurance data_set/insurance.csv\")\n",
        "print(df.head())"
      ],
      "metadata": {
        "colab": {
          "base_uri": "https://localhost:8080/"
        },
        "id": "yPACPoEP8lXa",
        "outputId": "8c1ca1c5-cdbb-4082-cd5e-f757e9a819ba"
      },
      "execution_count": 2,
      "outputs": [
        {
          "output_type": "stream",
          "name": "stdout",
          "text": [
            "   age     sex   bmi  children smoker     region  expenses\n",
            "0   19  female  27.9         0    yes  southwest  16884.92\n",
            "1   18    male  33.8         1     no  southeast   1725.55\n",
            "2   28    male  33.0         3     no  southeast   4449.46\n",
            "3   33    male  22.7         0     no  northwest  21984.47\n",
            "4   32    male  28.9         0     no  northwest   3866.86\n"
          ]
        }
      ]
    },
    {
      "cell_type": "markdown",
      "source": [
        "Data Type"
      ],
      "metadata": {
        "id": "m2Mj0cj99C-a"
      }
    },
    {
      "cell_type": "code",
      "source": [
        "df.dtypes"
      ],
      "metadata": {
        "colab": {
          "base_uri": "https://localhost:8080/",
          "height": 304
        },
        "id": "dB6OfmWT9KAy",
        "outputId": "cc3d7d28-9a5f-4e58-c309-964e34eab0a5"
      },
      "execution_count": 3,
      "outputs": [
        {
          "output_type": "execute_result",
          "data": {
            "text/plain": [
              "age           int64\n",
              "sex          object\n",
              "bmi         float64\n",
              "children      int64\n",
              "smoker       object\n",
              "region       object\n",
              "expenses    float64\n",
              "dtype: object"
            ],
            "text/html": [
              "<div>\n",
              "<style scoped>\n",
              "    .dataframe tbody tr th:only-of-type {\n",
              "        vertical-align: middle;\n",
              "    }\n",
              "\n",
              "    .dataframe tbody tr th {\n",
              "        vertical-align: top;\n",
              "    }\n",
              "\n",
              "    .dataframe thead th {\n",
              "        text-align: right;\n",
              "    }\n",
              "</style>\n",
              "<table border=\"1\" class=\"dataframe\">\n",
              "  <thead>\n",
              "    <tr style=\"text-align: right;\">\n",
              "      <th></th>\n",
              "      <th>0</th>\n",
              "    </tr>\n",
              "  </thead>\n",
              "  <tbody>\n",
              "    <tr>\n",
              "      <th>age</th>\n",
              "      <td>int64</td>\n",
              "    </tr>\n",
              "    <tr>\n",
              "      <th>sex</th>\n",
              "      <td>object</td>\n",
              "    </tr>\n",
              "    <tr>\n",
              "      <th>bmi</th>\n",
              "      <td>float64</td>\n",
              "    </tr>\n",
              "    <tr>\n",
              "      <th>children</th>\n",
              "      <td>int64</td>\n",
              "    </tr>\n",
              "    <tr>\n",
              "      <th>smoker</th>\n",
              "      <td>object</td>\n",
              "    </tr>\n",
              "    <tr>\n",
              "      <th>region</th>\n",
              "      <td>object</td>\n",
              "    </tr>\n",
              "    <tr>\n",
              "      <th>expenses</th>\n",
              "      <td>float64</td>\n",
              "    </tr>\n",
              "  </tbody>\n",
              "</table>\n",
              "</div><br><label><b>dtype:</b> object</label>"
            ]
          },
          "metadata": {},
          "execution_count": 3
        }
      ]
    },
    {
      "cell_type": "markdown",
      "source": [
        " balanced or imbalanced dataset"
      ],
      "metadata": {
        "id": "m_jGT3mt9hzC"
      }
    },
    {
      "cell_type": "code",
      "source": [
        "target_column = 'smoker'\n",
        "\n",
        "class_counts = df[target_column].value_counts()\n",
        "class_percent = df[target_column].value_counts(normalize=True) * 100\n",
        "balance_check = pd.DataFrame({\n",
        "    'Count': class_counts,\n",
        "    'Percentage': class_percent.round(2)\n",
        "})\n",
        "\n",
        "print(f\"\\nClass distribution for '{target_column}':\\n\")\n",
        "print(balance_check)"
      ],
      "metadata": {
        "colab": {
          "base_uri": "https://localhost:8080/"
        },
        "id": "a0YwRiT99jmi",
        "outputId": "c5cfcc88-ccaf-4003-bd10-9145369725a0"
      },
      "execution_count": 4,
      "outputs": [
        {
          "output_type": "stream",
          "name": "stdout",
          "text": [
            "\n",
            "Class distribution for 'smoker':\n",
            "\n",
            "        Count  Percentage\n",
            "smoker                   \n",
            "no       1064       79.52\n",
            "yes       274       20.48\n"
          ]
        }
      ]
    },
    {
      "cell_type": "markdown",
      "source": [
        "description dataset"
      ],
      "metadata": {
        "id": "2oTmwhWz-mV1"
      }
    },
    {
      "cell_type": "code",
      "source": [
        "print(\"Dataset Overview\")\n",
        "print(\"-\" * 30)\n",
        "print(f\"Total rows: {df.shape[0]}\")\n",
        "print(f\"Total columns: {df.shape[1]}\\n\")\n",
        "\n",
        "\n",
        "print(\"Column Descriptions\")\n",
        "print(\"-\" * 30)\n",
        "\n",
        "for col in df.columns:\n",
        "    dtype = df[col].dtype\n",
        "\n",
        "    print(f\"Column: {col}\")\n",
        "    print(f\"Type: {dtype}\")\n",
        "\n",
        "    if dtype == 'object':\n",
        "        unique_vals = df[col].unique()\n",
        "        print(f\"Categories ({len(unique_vals)}): {list(unique_vals)}\")\n",
        "    else:\n",
        "        min_val = df[col].min()\n",
        "        max_val = df[col].max()\n",
        "        print(f\"Range: {min_val} to {max_val}\")\n",
        "\n",
        "    print(\"-\" * 30)"
      ],
      "metadata": {
        "colab": {
          "base_uri": "https://localhost:8080/"
        },
        "id": "vhS1NpBb-p4S",
        "outputId": "5ae77d59-78cd-4069-d200-e34789c353ea"
      },
      "execution_count": 5,
      "outputs": [
        {
          "output_type": "stream",
          "name": "stdout",
          "text": [
            "Dataset Overview\n",
            "------------------------------\n",
            "Total rows: 1338\n",
            "Total columns: 7\n",
            "\n",
            "Column Descriptions\n",
            "------------------------------\n",
            "Column: age\n",
            "Type: int64\n",
            "Range: 18 to 64\n",
            "------------------------------\n",
            "Column: sex\n",
            "Type: object\n",
            "Categories (2): ['female', 'male']\n",
            "------------------------------\n",
            "Column: bmi\n",
            "Type: float64\n",
            "Range: 16.0 to 53.1\n",
            "------------------------------\n",
            "Column: children\n",
            "Type: int64\n",
            "Range: 0 to 5\n",
            "------------------------------\n",
            "Column: smoker\n",
            "Type: object\n",
            "Categories (2): ['yes', 'no']\n",
            "------------------------------\n",
            "Column: region\n",
            "Type: object\n",
            "Categories (4): ['southwest', 'southeast', 'northwest', 'northeast']\n",
            "------------------------------\n",
            "Column: expenses\n",
            "Type: float64\n",
            "Range: 1121.87 to 63770.43\n",
            "------------------------------\n"
          ]
        }
      ]
    },
    {
      "cell_type": "markdown",
      "source": [
        "quantitative result"
      ],
      "metadata": {
        "id": "g1rhg3MX_hDN"
      }
    },
    {
      "cell_type": "code",
      "source": [
        "target_column = 'smoker'\n",
        "\n",
        "\n",
        "class_counts = df[target_column].value_counts()\n",
        "class_percent = df[target_column].value_counts(normalize=True) * 100\n",
        "\n",
        "\n",
        "summary = pd.DataFrame({\n",
        "    'Count': class_counts,\n",
        "    'Percentage': class_percent.round(2)\n",
        "})\n",
        "\n",
        "\n",
        "print(f\"\\nClass Distribution in '{target_column}' Column:\\n\")\n",
        "print(summary)\n",
        "\n",
        "\n",
        "imbalance_threshold = 0.7\n",
        "is_balanced = class_percent.max() < (imbalance_threshold * 100)\n",
        "\n",
        "\n",
        "print(\"\\nBalance Check:\")\n",
        "if is_balanced:\n",
        "    print(\"The dataset is BALANCED.\")\n",
        "else:\n",
        "    print(\"The dataset is IMBALANCED.\")\n"
      ],
      "metadata": {
        "colab": {
          "base_uri": "https://localhost:8080/"
        },
        "id": "9OA6EwTD_ir6",
        "outputId": "75397698-b00a-426e-976c-0c1866b5da15"
      },
      "execution_count": 6,
      "outputs": [
        {
          "output_type": "stream",
          "name": "stdout",
          "text": [
            "\n",
            "Class Distribution in 'smoker' Column:\n",
            "\n",
            "        Count  Percentage\n",
            "smoker                   \n",
            "no       1064       79.52\n",
            "yes       274       20.48\n",
            "\n",
            "Balance Check:\n",
            "The dataset is IMBALANCED.\n"
          ]
        }
      ]
    },
    {
      "cell_type": "markdown",
      "source": [
        "calculate the mean, median, variance and standard deviation"
      ],
      "metadata": {
        "id": "nQCLnOWqAKLC"
      }
    },
    {
      "cell_type": "code",
      "source": [
        "print(\"\\nColumn-wise Data Summary\")\n",
        "print(\"=\" * 50)\n",
        "\n",
        "for col in df.columns:\n",
        "    print(f\"\\nColumn: {col}\")\n",
        "    dtype = df[col].dtype\n",
        "\n",
        "    if pd.api.types.is_numeric_dtype(df[col]):\n",
        "        unique_vals = df[col].nunique()\n",
        "\n",
        "        # Assume discrete if few unique values\n",
        "        if pd.api.types.is_integer_dtype(df[col]) and unique_vals < 10:\n",
        "            # Discrete Numerical - treat like categorical\n",
        "            counts = df[col].value_counts()\n",
        "            percentages = df[col].value_counts(normalize=True) * 100\n",
        "            summary = pd.DataFrame({'Count': counts, 'Percentage': percentages.round(2)})\n",
        "            print(\"Type: Discrete Numerical\")\n",
        "            print(summary)\n",
        "        else:\n",
        "            # Continuous Numerical\n",
        "            mean = df[col].mean()\n",
        "            median = df[col].median()\n",
        "            var = df[col].var()\n",
        "            std = df[col].std()\n",
        "            print(\"Type: Continuous Numerical\")\n",
        "            print(f\"Mean: {mean:.2f}\")\n",
        "            print(f\"Median: {median:.2f}\")\n",
        "            print(f\"Variance: {var:.2f}\")\n",
        "            print(f\"Standard Deviation: {std:.2f}\")\n",
        "    else:\n",
        "        # Categorical\n",
        "        counts = df[col].value_counts()\n",
        "        percentages = df[col].value_counts(normalize=True) * 100\n",
        "        summary = pd.DataFrame({'Count': counts, 'Percentage': percentages.round(2)})\n",
        "        print(\"Type: Categorical\")\n",
        "        print(summary)"
      ],
      "metadata": {
        "colab": {
          "base_uri": "https://localhost:8080/"
        },
        "id": "WFGkVxETAL0B",
        "outputId": "47823419-007b-492b-db80-c51c25999388"
      },
      "execution_count": 7,
      "outputs": [
        {
          "output_type": "stream",
          "name": "stdout",
          "text": [
            "\n",
            "Column-wise Data Summary\n",
            "==================================================\n",
            "\n",
            "Column: age\n",
            "Type: Continuous Numerical\n",
            "Mean: 39.21\n",
            "Median: 39.00\n",
            "Variance: 197.40\n",
            "Standard Deviation: 14.05\n",
            "\n",
            "Column: sex\n",
            "Type: Categorical\n",
            "        Count  Percentage\n",
            "sex                      \n",
            "male      676       50.52\n",
            "female    662       49.48\n",
            "\n",
            "Column: bmi\n",
            "Type: Continuous Numerical\n",
            "Mean: 30.67\n",
            "Median: 30.40\n",
            "Variance: 37.19\n",
            "Standard Deviation: 6.10\n",
            "\n",
            "Column: children\n",
            "Type: Discrete Numerical\n",
            "          Count  Percentage\n",
            "children                   \n",
            "0           574       42.90\n",
            "1           324       24.22\n",
            "2           240       17.94\n",
            "3           157       11.73\n",
            "4            25        1.87\n",
            "5            18        1.35\n",
            "\n",
            "Column: smoker\n",
            "Type: Categorical\n",
            "        Count  Percentage\n",
            "smoker                   \n",
            "no       1064       79.52\n",
            "yes       274       20.48\n",
            "\n",
            "Column: region\n",
            "Type: Categorical\n",
            "           Count  Percentage\n",
            "region                      \n",
            "southeast    364       27.20\n",
            "southwest    325       24.29\n",
            "northwest    325       24.29\n",
            "northeast    324       24.22\n",
            "\n",
            "Column: expenses\n",
            "Type: Continuous Numerical\n",
            "Mean: 13270.42\n",
            "Median: 9382.03\n",
            "Variance: 146652372.23\n",
            "Standard Deviation: 12110.01\n"
          ]
        }
      ]
    },
    {
      "cell_type": "markdown",
      "source": [
        "Bar chart"
      ],
      "metadata": {
        "id": "uRFlN3Q7AsPL"
      }
    },
    {
      "cell_type": "code",
      "source": [
        "import pandas as pd\n",
        "import matplotlib.pyplot as plt\n",
        "\n",
        "\n",
        "for col in df.columns:\n",
        "    if df[col].dtype == 'object' or (pd.api.types.is_integer_dtype(df[col]) and df[col].nunique() < 10):\n",
        "        counts = df[col].value_counts()\n",
        "\n",
        "        plt.figure()\n",
        "        counts.plot(kind='bar', color='cornflowerblue', edgecolor='black')\n",
        "        plt.title(f\"Bar Chart of '{col}'\")\n",
        "        plt.xlabel(col)\n",
        "        plt.ylabel(\"Frequency\")\n",
        "        plt.xticks(rotation=0)\n",
        "        plt.tight_layout()\n",
        "        plt.show()\n"
      ],
      "metadata": {
        "colab": {
          "base_uri": "https://localhost:8080/",
          "height": 1000
        },
        "id": "ZjLmPpj9Avdp",
        "outputId": "75c0729e-d3d6-4302-a8de-52290ade3320"
      },
      "execution_count": 9,
      "outputs": [
        {
          "output_type": "display_data",
          "data": {
            "text/plain": [
              "<Figure size 640x480 with 1 Axes>"
            ],
            "image/png": "[encoded data removed]"
          },
          "metadata": {}
        },
        {
          "output_type": "display_data",
          "data": {
            "text/plain": [
              "<Figure size 640x480 with 1 Axes>"
            ],
            "image/png": "[encoded data removed]"
          },
          "metadata": {}
        },
        {
          "output_type": "display_data",
          "data": {
            "text/plain": [
              "<Figure size 640x480 with 1 Axes>"
            ],
            "image/png": "[encoded data removed]"
          },
          "metadata": {}
        },
        {
          "output_type": "display_data",
          "data": {
            "text/plain": [
              "<Figure size 640x480 with 1 Axes>"
            ],
            "image/png": "[encoded data removed]"
          },
          "metadata": {}
        }
      ]
    }
  ]
}